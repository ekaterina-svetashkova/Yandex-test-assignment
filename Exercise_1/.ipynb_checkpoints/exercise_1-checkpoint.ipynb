{
 "cells": [
  {
   "cell_type": "markdown",
   "id": "1cf81448",
   "metadata": {},
   "source": [
    "### Название города по численности населения"
   ]
  },
  {
   "cell_type": "code",
   "execution_count": 2,
   "id": "d10f0e43",
   "metadata": {},
   "outputs": [],
   "source": [
    "import os\n",
    "import sys\n",
    "from random import random\n",
    "import json"
   ]
  },
  {
   "cell_type": "code",
   "execution_count": null,
   "id": "767f0e8d",
   "metadata": {},
   "outputs": [],
   "source": [
    "class CitiesPopulation:\n",
    "    \"\"\"\n",
    "    Класс, представляющий города по популяции.\n",
    "\n",
    "    Атрибуты\n",
    "    --------\n",
    "    file_path: str\n",
    "        путь к json-файлу\n",
    "\n",
    "    Методы\n",
    "    ------\n",
    "    __convert_json_to_dict():\n",
    "    конвертирует input.json в словарь формата {'город' : 'численность_населения'}\n",
    "    \n",
    "    get_city():\n",
    "        Выводит из списка городов, поданного на вход в json'e, название города с частотой, \n",
    "        зависящей от численности населения\n",
    "    \"\"\"\n",
    "    def __init__(self, file_path: str) -> None:\n",
    "        \n",
    "        self.file_path = file_path\n",
    "        \n",
    "    def __convert_json_to_dict(self) -> list:\n",
    "        \"\"\"\n",
    "        конвертирует input.json в словарь формата {'город' : 'численность_населения'}\n",
    "        \"\"\"\n",
    "        try:\n",
    "            with open(self.file_path) as json_file:\n",
    "                data = json.load(json_file)\n",
    "                cities_dict = {}\n",
    "                for city in data:\n",
    "                    name = city['name']\n",
    "                    cities_dict[name]=city['population']\n",
    "                sorted_weights=sorted(cities_dict.items(), key=lambda x:x[1])\n",
    "                sorted_weights = dict(sorted_weights)\n",
    "                return sorted_weights\n",
    "        except ValueError: \n",
    "            print('Неправильный формат json-файла')\n",
    "        sys.exit('Ошибка')\n",
    "        \n",
    "              \n",
    "    \n",
    "    def get_city(self) -> str:\n",
    "        \"\"\"\n",
    "        Выводит из списка, поданного на вход в json'e, название города с частотой, \n",
    "        зависящей от численности населения\n",
    "        \"\"\"\n",
    "        cities_dict = self.__convert_json_to_dict()\n",
    "        \n",
    "        rnd = random() * sum(cities_dict.values())\n",
    "        for key, value in cities_dict.items():\n",
    "            rnd -= value\n",
    "            if rnd < 0:\n",
    "                return print(key)"
   ]
  },
  {
   "cell_type": "code",
   "execution_count": null,
   "id": "4637109d",
   "metadata": {},
   "outputs": [],
   "source": [
    "def get_city_info(file_path=None):\n",
    "    return CitiesPopulation(file_path=file_path).get_city()"
   ]
  },
  {
   "cell_type": "code",
   "execution_count": null,
   "id": "ea961227",
   "metadata": {},
   "outputs": [],
   "source": [
    "city = get_city_info('input.json')"
   ]
  }
 ],
 "metadata": {
  "kernelspec": {
   "display_name": "Python 3 (ipykernel)",
   "language": "python",
   "name": "python3"
  },
  "language_info": {
   "codemirror_mode": {
    "name": "ipython",
    "version": 3
   },
   "file_extension": ".py",
   "mimetype": "text/x-python",
   "name": "python",
   "nbconvert_exporter": "python",
   "pygments_lexer": "ipython3",
   "version": "3.9.13"
  },
  "toc": {
   "base_numbering": 1,
   "nav_menu": {},
   "number_sections": true,
   "sideBar": true,
   "skip_h1_title": false,
   "title_cell": "Table of Contents",
   "title_sidebar": "Contents",
   "toc_cell": true,
   "toc_position": {},
   "toc_section_display": true,
   "toc_window_display": false
  }
 },
 "nbformat": 4,
 "nbformat_minor": 5
}
