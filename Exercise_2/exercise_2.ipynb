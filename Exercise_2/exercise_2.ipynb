{
 "cells": [
  {
   "cell_type": "markdown",
   "id": "0fafdf3b",
   "metadata": {
    "toc": true
   },
   "source": [
    "<h1>Table of Contents<span class=\"tocSkip\"></span></h1>\n",
    "<div class=\"toc\"><ul class=\"toc-item\"><li><span><a href=\"#Бот-для-записи-сообщений\" data-toc-modified-id=\"Бот-для-записи-сообщений-1\"><span class=\"toc-item-num\">1&nbsp;&nbsp;</span>Бот для записи сообщений</a></span></li></ul></div>"
   ]
  },
  {
   "cell_type": "markdown",
   "id": "2452f980",
   "metadata": {},
   "source": [
    "### Бот для записи сообщений"
   ]
  },
  {
   "cell_type": "code",
   "execution_count": null,
   "id": "801f11da",
   "metadata": {},
   "outputs": [],
   "source": [
    "!python bot.py"
   ]
  },
  {
   "cell_type": "code",
   "execution_count": 7,
   "id": "fa220db9",
   "metadata": {},
   "outputs": [],
   "source": [
    "from google.oauth2 import service_account\n",
    "import pandas as pd\n",
    "import gspread\n",
    "import json\n",
    "import os"
   ]
  },
  {
   "cell_type": "code",
   "execution_count": 16,
   "id": "f0e554d4",
   "metadata": {},
   "outputs": [],
   "source": [
    "import gspread\n",
    "\n",
    "# gc = gspread.service_account()"
   ]
  },
  {
   "cell_type": "code",
   "execution_count": 33,
   "id": "b7aabf9f",
   "metadata": {},
   "outputs": [],
   "source": [
    "import gspread\n",
    "from google.oauth2.service_account import Credentials\n",
    "\n",
    "scopes = [\n",
    "    'https://www.googleapis.com/auth/spreadsheets',\n",
    "    'https://www.googleapis.com/auth/drive'\n",
    "]\n",
    "\n",
    "credentials = Credentials.from_service_account_file(\n",
    "    r'../credentials/test-project-399514-91e724ef09fd.json',\n",
    "    scopes=scopes\n",
    ")\n",
    "\n",
    "gc = gspread.authorize(credentials)\n",
    "\n",
    "# вставляем ссылку на Гугл-таблицу\n",
    "spreadsheet = gc.open_by_url('https://docs.google.com/spreadsheets/d/146ahYwfP9hueMCP4KQX8xnO6_T-NTYCeQvmiyDlQtPM/edit#gid=323406007')\n",
    "\n",
    "worksheet = spreadsheet.get_worksheet(0)\n",
    "worksheet.append_row(['kate_svet','happy','2023-09-19 20:00:49'])"
   ]
  },
  {
   "cell_type": "code",
   "execution_count": 24,
   "id": "d676cfb2",
   "metadata": {},
   "outputs": [],
   "source": [
    "d = {}\n",
    "    d['Логин']=message.from_user.username\n",
    "    d['Текст']=message.text\n",
    "    d['Время сообщения']=message.date\n",
    "    df=pd.DataFrame(d, index=[0])\n",
    "\n",
    "    spread.df_to_sheet(df, index=False, headers=True, merge_index=True, replace=False, sheet='Сообщения боту')"
   ]
  },
  {
   "cell_type": "code",
   "execution_count": 36,
   "id": "b47bc8a1",
   "metadata": {},
   "outputs": [],
   "source": [
    "worksheet = spreadsheet.get_worksheet(0)"
   ]
  },
  {
   "cell_type": "code",
   "execution_count": 30,
   "id": "70db6550",
   "metadata": {},
   "outputs": [
    {
     "data": {
      "text/plain": [
       "{'spreadsheetId': '146ahYwfP9hueMCP4KQX8xnO6_T-NTYCeQvmiyDlQtPM',\n",
       " 'tableRange': \"'Сообщения боту'!A1:C2\",\n",
       " 'updates': {'spreadsheetId': '146ahYwfP9hueMCP4KQX8xnO6_T-NTYCeQvmiyDlQtPM',\n",
       "  'updatedRange': \"'Сообщения боту'!A3:C3\",\n",
       "  'updatedRows': 1,\n",
       "  'updatedColumns': 3,\n",
       "  'updatedCells': 3}}"
      ]
     },
     "execution_count": 30,
     "metadata": {},
     "output_type": "execute_result"
    }
   ],
   "source": [
    "worksheet.append_row(['kate_svet','happy','2023-09-19 20:00:49'])"
   ]
  },
  {
   "cell_type": "code",
   "execution_count": null,
   "id": "86ff9730",
   "metadata": {},
   "outputs": [],
   "source": []
  },
  {
   "cell_type": "code",
   "execution_count": 5,
   "id": "d75fa28a",
   "metadata": {},
   "outputs": [
    {
     "ename": "ValueError",
     "evalue": "invalid mode: 'test-project-399514-91e724ef09fd.json'",
     "output_type": "error",
     "traceback": [
      "\u001b[0;31m---------------------------------------------------------------------------\u001b[0m",
      "\u001b[0;31mValueError\u001b[0m                                Traceback (most recent call last)",
      "\u001b[0;32m/var/folders/kh/4q3md71j6jl1tv5cps2rhcz00000gn/T/ipykernel_10969/2472459960.py\u001b[0m in \u001b[0;36m<module>\u001b[0;34m\u001b[0m\n\u001b[0;32m----> 1\u001b[0;31m \u001b[0mgoogle_json\u001b[0m \u001b[0;34m=\u001b[0m \u001b[0mopen\u001b[0m\u001b[0;34m(\u001b[0m\u001b[0;34mr'../credentials'\u001b[0m\u001b[0;34m,\u001b[0m \u001b[0;34mr'test-project-399514-91e724ef09fd.json'\u001b[0m\u001b[0;34m)\u001b[0m\u001b[0;34m\u001b[0m\u001b[0;34m\u001b[0m\u001b[0m\n\u001b[0m",
      "\u001b[0;31mValueError\u001b[0m: invalid mode: 'test-project-399514-91e724ef09fd.json'"
     ]
    }
   ],
   "source": [
    "# google_json = json.load(open(r'../credentials', 'key7367.json'))"
   ]
  },
  {
   "cell_type": "code",
   "execution_count": null,
   "id": "8e7578d4",
   "metadata": {},
   "outputs": [],
   "source": [
    "service_account_info = json.loads(google_json)\n",
    "credentials = service_account.Credentials.from_service_account_info(service_account_info)"
   ]
  },
  {
   "cell_type": "code",
   "execution_count": 2,
   "id": "b747fd10",
   "metadata": {},
   "outputs": [
    {
     "ename": "ModuleNotFoundError",
     "evalue": "No module named 'gmail_variables'",
     "output_type": "error",
     "traceback": [
      "\u001b[0;31m---------------------------------------------------------------------------\u001b[0m",
      "\u001b[0;31mModuleNotFoundError\u001b[0m                       Traceback (most recent call last)",
      "\u001b[0;32m/var/folders/kh/4q3md71j6jl1tv5cps2rhcz00000gn/T/ipykernel_10969/93352674.py\u001b[0m in \u001b[0;36m<module>\u001b[0;34m\u001b[0m\n\u001b[1;32m      2\u001b[0m \u001b[0;32mimport\u001b[0m \u001b[0mgspread\u001b[0m\u001b[0;34m\u001b[0m\u001b[0;34m\u001b[0m\u001b[0m\n\u001b[1;32m      3\u001b[0m \u001b[0;32mfrom\u001b[0m \u001b[0moauth2client\u001b[0m\u001b[0;34m.\u001b[0m\u001b[0mclient\u001b[0m \u001b[0;32mimport\u001b[0m \u001b[0mSignedJwtAssertionCredentials\u001b[0m\u001b[0;34m\u001b[0m\u001b[0;34m\u001b[0m\u001b[0m\n\u001b[0;32m----> 4\u001b[0;31m \u001b[0;32mfrom\u001b[0m \u001b[0mgmail_variables\u001b[0m \u001b[0;32mimport\u001b[0m \u001b[0;34m*\u001b[0m\u001b[0;34m\u001b[0m\u001b[0;34m\u001b[0m\u001b[0m\n\u001b[0m\u001b[1;32m      5\u001b[0m \u001b[0;34m\u001b[0m\u001b[0m\n\u001b[1;32m      6\u001b[0m \u001b[0mjson_key\u001b[0m \u001b[0;34m=\u001b[0m \u001b[0mjson\u001b[0m\u001b[0;34m.\u001b[0m\u001b[0mload\u001b[0m\u001b[0;34m(\u001b[0m\u001b[0mopen\u001b[0m\u001b[0;34m(\u001b[0m\u001b[0;34mr'../credentials'\u001b[0m\u001b[0;34m,\u001b[0m \u001b[0;34m'key7367.json'\u001b[0m\u001b[0;34m)\u001b[0m\u001b[0;34m)\u001b[0m\u001b[0;34m\u001b[0m\u001b[0;34m\u001b[0m\u001b[0m\n",
      "\u001b[0;31mModuleNotFoundError\u001b[0m: No module named 'gmail_variables'"
     ]
    }
   ],
   "source": [
    "import json\n",
    "import gspread\n",
    "from oauth2client.client import SignedJwtAssertionCredentials\n",
    "from gmail_variables import *\n",
    "\n",
    "json_key = json.load(open(r'../credentials', 'key7367.json'))\n",
    "scope = ['https://spreadsheets.google.com/feeds']\n",
    "\n",
    "credentials = SignedJwtAssertionCredentials(json_key['client_email'], json_key['private_key'], scope)\n",
    "\n",
    "gc = gspread.authorize(credentials)\n",
    "\n",
    "\n",
    "wks = gc.open_by_url('https://docs.google.com/a/test.com/spreadsheets/d/1-cAg..sLt5Ho/edit?usp=sharing')\n",
    "\n",
    "recipients = wks.get_all_values()"
   ]
  },
  {
   "cell_type": "code",
   "execution_count": null,
   "id": "9504f2df",
   "metadata": {},
   "outputs": [],
   "source": [
    "c"
   ]
  },
  {
   "cell_type": "code",
   "execution_count": null,
   "id": "32717f09",
   "metadata": {},
   "outputs": [],
   "source": [
    "spreadsheet = c.open_by_url('https://docs.google.com/spreadsheets/d/146ahYwfP9hueMCP4KQX8xnO6_T-NTYCeQvmiyDlQtPM/edit#gid=323406007')"
   ]
  },
  {
   "cell_type": "code",
   "execution_count": null,
   "id": "73a74bb0",
   "metadata": {},
   "outputs": [],
   "source": []
  },
  {
   "cell_type": "code",
   "execution_count": null,
   "id": "b84d5284",
   "metadata": {},
   "outputs": [],
   "source": []
  },
  {
   "cell_type": "code",
   "execution_count": null,
   "id": "e77fa190",
   "metadata": {},
   "outputs": [],
   "source": []
  },
  {
   "cell_type": "code",
   "execution_count": null,
   "id": "b5cb123c",
   "metadata": {},
   "outputs": [],
   "source": []
  },
  {
   "cell_type": "code",
   "execution_count": null,
   "id": "c78249a7",
   "metadata": {},
   "outputs": [],
   "source": []
  },
  {
   "cell_type": "code",
   "execution_count": null,
   "id": "709b5f65",
   "metadata": {},
   "outputs": [],
   "source": [
    "# определяем подключение к google doc'у\n",
    "c = gspread_pandas.conf.get_config(\n",
    "    r'../credentials', 'test-project-399514-91e724ef09fd.json') # конфиг, необходимый для подключения к гугл-диску\n",
    "\n",
    "# ссылка на созданный гугл-док: https://docs.google.com/spreadsheets/d/146ahYwfP9hueMCP4KQX8xnO6_T-NTYCeQvmiyDlQtPM/edit#gid=0\n",
    "spread = gspread_pandas.Spread(\n",
    "    '146ahYwfP9hueMCP4KQX8xnO6_T-NTYCeQvmiyDlQtPM', config=c) # определяем, в какой документ записывать данные"
   ]
  },
  {
   "cell_type": "code",
   "execution_count": null,
   "id": "41038c77",
   "metadata": {},
   "outputs": [],
   "source": [
    "spread.insert_ro"
   ]
  },
  {
   "cell_type": "code",
   "execution_count": null,
   "id": "ffc90584",
   "metadata": {},
   "outputs": [],
   "source": [
    "def write_to_google_sheets(login, text, time):\n",
    "    "
   ]
  },
  {
   "cell_type": "code",
   "execution_count": null,
   "id": "d9322604",
   "metadata": {},
   "outputs": [],
   "source": [
    "@dp.message_handler()\n",
    "async def show_datetime(message: types.Message):\n",
    "    print(message.date)\n",
    "    return"
   ]
  },
  {
   "cell_type": "code",
   "execution_count": null,
   "id": "0bf0675a",
   "metadata": {},
   "outputs": [],
   "source": [
    "from aiogram import Bot, types, Dispatcher, executor\n",
    "\n",
    "from config import TOKEN\n",
    "\n",
    "\n",
    "\n",
    "bot = Bot(token=TOKEN)\n",
    "dp = Dispatcher(bot)\n",
    "\n",
    "@dp.message_handler(commands=['start'])\n",
    "async def process_start_command(message: types.Message):\n",
    "    await message.reply(\"Привет!\\nНапиши мне что-нибудь!\")\n",
    "\n",
    "\n",
    "@dp.message_handler(commands=['help'])\n",
    "async def process_help_command(message: types.Message):\n",
    "    await message.reply(\"Напиши мне что-нибудь, и я отпрпавлю этот текст тебе в ответ!\")\n",
    "\n",
    "\n",
    "# @dp.message_handler()\n",
    "# async def echo_message(msg: types.Message):\n",
    "\n",
    "#     await bot.send_message(msg.from_user.id, msg.text)\n",
    "    \n",
    "@dp.message_handler()\n",
    "async def show_datetime(message: types.Message):\n",
    "    print(message.date, message.text, message.from_user.id)\n",
    "    return\n",
    "    \n",
    "    \n",
    "\n",
    "\n",
    "# executor.start_polling(dp)"
   ]
  },
  {
   "cell_type": "code",
   "execution_count": 44,
   "id": "3a4a580e",
   "metadata": {},
   "outputs": [],
   "source": [
    "#importing the module \n",
    "import logging \n",
    "\n",
    "\n",
    "\n",
    "\n",
    "#now we will Create and configure logger \n",
    "logging.basicConfig(filename=\"std.log\", format='%(asctime)s %(message)s', filemode='a', level=logging.DEBUG) \n",
    "\n",
    "#Let us Create an object \n",
    "logger=logging.getLogger()\n",
    "\n",
    "\n",
    "\n"
   ]
  },
  {
   "cell_type": "code",
   "execution_count": 47,
   "id": "93eb3cd2",
   "metadata": {},
   "outputs": [
    {
     "name": "stderr",
     "output_type": "stream",
     "text": [
      "Warning messages are logged, too.\n",
      "The variable is not numeric.\n"
     ]
    }
   ],
   "source": [
    "import logging\n",
    "\n",
    "logging.basicConfig(filename=\"my-logfile.log\", format=\"%(asctime)s - %(message)s\", filemode=\"w\", level=logging.WARNING)\n",
    "logging.getLogger().addHandler(logging.StreamHandler())\n",
    "logging.debug(\"This message is logged to the file.\")\n",
    "logging.warning(\"Warning messages are logged, too.\")\n",
    "\n",
    "a = \"text\"\n",
    "\n",
    "try:\n",
    "    logging.info(str(a**2))\n",
    "except TypeError:\n",
    "    logging.error(\"The variable is not numeric.\")\n",
    "\n",
    "# stop logging\n",
    "logging.shutdown()"
   ]
  },
  {
   "cell_type": "code",
   "execution_count": 46,
   "id": "0493504c",
   "metadata": {},
   "outputs": [
    {
     "ename": "SyntaxError",
     "evalue": "unexpected EOF while parsing (698122146.py, line 2)",
     "output_type": "error",
     "traceback": [
      "\u001b[0;36m  File \u001b[0;32m\"/var/folders/kh/4q3md71j6jl1tv5cps2rhcz00000gn/T/ipykernel_10969/698122146.py\"\u001b[0;36m, line \u001b[0;32m2\u001b[0m\n\u001b[0;31m    10%0\u001b[0m\n\u001b[0m        ^\u001b[0m\n\u001b[0;31mSyntaxError\u001b[0m\u001b[0;31m:\u001b[0m unexpected EOF while parsing\n"
     ]
    }
   ],
   "source": [
    "try:\n",
    "    10%0\n",
    "except:\n",
    "    logger"
   ]
  }
 ],
 "metadata": {
  "kernelspec": {
   "display_name": "Python 3 (ipykernel)",
   "language": "python",
   "name": "python3"
  },
  "language_info": {
   "codemirror_mode": {
    "name": "ipython",
    "version": 3
   },
   "file_extension": ".py",
   "mimetype": "text/x-python",
   "name": "python",
   "nbconvert_exporter": "python",
   "pygments_lexer": "ipython3",
   "version": "3.9.13"
  },
  "toc": {
   "base_numbering": 1,
   "nav_menu": {},
   "number_sections": true,
   "sideBar": true,
   "skip_h1_title": false,
   "title_cell": "Table of Contents",
   "title_sidebar": "Contents",
   "toc_cell": true,
   "toc_position": {},
   "toc_section_display": true,
   "toc_window_display": false
  }
 },
 "nbformat": 4,
 "nbformat_minor": 5
}
